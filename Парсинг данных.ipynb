{
 "cells": [
  {
   "cell_type": "markdown",
   "id": "cb002a63-fade-411f-8795-315a08329b62",
   "metadata": {},
   "source": [
    "# Парсинг данных (13.06.2017 - 12.04.2025)"
   ]
  },
  {
   "cell_type": "code",
   "execution_count": 19,
   "id": "11558b88-b260-4b4e-b013-53464e78ce70",
   "metadata": {},
   "outputs": [
    {
     "name": "stdout",
     "output_type": "stream",
     "text": [
      "📅 Начался парсинг 2017 года...\n",
      "📅 Начался парсинг 2018 года...\n",
      "📅 Начался парсинг 2019 года...\n",
      "📅 Начался парсинг 2020 года...\n",
      "📅 Начался парсинг 2021 года...\n",
      "📅 Начался парсинг 2022 года...\n",
      "📅 Начался парсинг 2023 года...\n",
      "📅 Начался парсинг 2024 года...\n",
      "📅 Начался парсинг 2025 года...\n",
      "✅ Данные сохранены в Парсинг_НБТ_5г_золото_цены_продажи.xlsx\n"
     ]
    }
   ],
   "source": [
    "import requests\n",
    "from bs4 import BeautifulSoup\n",
    "import pandas as pd\n",
    "from datetime import datetime, timedelta\n",
    "\n",
    "start_date = datetime(2017, 6, 13)\n",
    "end_date = datetime.now()\n",
    "\n",
    "data = []\n",
    "\n",
    "headers = {\n",
    "    \"User-Agent\": \"Mozilla/5.0 (Windows NT 10.0; Win64; x64) Chrome/91.0.4472.124\"\n",
    "}\n",
    "\n",
    "current_date = start_date\n",
    "last_year = None\n",
    "\n",
    "while current_date <= end_date:\n",
    "    date_str = current_date.strftime(\"%d.%m.%Y\")\n",
    "    year_now = current_date.year\n",
    "    if year_now != last_year:\n",
    "        print(f\"📅 Начался парсинг {year_now} года...\")\n",
    "        last_year = year_now\n",
    "\n",
    "    url = f\"https://nbt.tj/tj/kurs/gold.php?date={date_str}\"\n",
    "    price = None\n",
    "\n",
    "    try:\n",
    "        response = requests.get(url, headers=headers, timeout=10)\n",
    "        if response.status_code == 200:\n",
    "            soup = BeautifulSoup(response.content, \"html.parser\")\n",
    "            tables = soup.find_all(\"table\")\n",
    "\n",
    "            # Поиск таблицы, содержащей \"грамм\" и \"цена\"\n",
    "            for table in tables:\n",
    "                rows = table.find_all(\"tr\")\n",
    "                for row in rows:\n",
    "                    cols = row.find_all(\"td\")\n",
    "                    if len(cols) >= 3:\n",
    "                        weight = cols[0].text.strip().lower().replace(\" \", \"\")\n",
    "                        if weight.startswith(\"5\"):\n",
    "                            price = cols[2].text.strip()  # Цена продажи\n",
    "                            break\n",
    "                if price:\n",
    "                    break\n",
    "    except Exception as e:\n",
    "        pass  # Игнорируем ошибки, продолжаем\n",
    "\n",
    "    data.append({\n",
    "        \"date\": date_str,\n",
    "        \"price_sell_5g\": price\n",
    "    })\n",
    "    current_date += timedelta(days=1)\n",
    "\n",
    "\n",
    "df = pd.DataFrame(data)\n",
    "df.to_excel(\"Парсинг_НБТ_5г_золото_цены_продажи.xlsx\", index=False)\n",
    "print(\"✅ Данные сохранены в Парсинг_НБТ_5г_золото_цены_продажи.xlsx\")\n"
   ]
  },
  {
   "cell_type": "code",
   "execution_count": 23,
   "id": "d1005a68-a369-4fe9-af0a-4de3d0184bf7",
   "metadata": {},
   "outputs": [
    {
     "name": "stdout",
     "output_type": "stream",
     "text": [
      "<class 'pandas.core.frame.DataFrame'>\n",
      "RangeIndex: 2861 entries, 0 to 2860\n",
      "Data columns (total 2 columns):\n",
      " #   Column         Non-Null Count  Dtype \n",
      "---  ------         --------------  ----- \n",
      " 0   date           2861 non-null   object\n",
      " 1   price_sell_5g  2165 non-null   object\n",
      "dtypes: object(2)\n",
      "memory usage: 44.8+ KB\n"
     ]
    }
   ],
   "source": [
    "df.info()"
   ]
  },
  {
   "cell_type": "code",
   "execution_count": 27,
   "id": "fde7de96-5b2a-4760-9dd2-03b21f0bb9ab",
   "metadata": {},
   "outputs": [
    {
     "data": {
      "text/plain": [
       "date               0\n",
       "price_sell_5g    696\n",
       "dtype: int64"
      ]
     },
     "execution_count": 27,
     "metadata": {},
     "output_type": "execute_result"
    }
   ],
   "source": [
    "df.isna().sum()"
   ]
  },
  {
   "cell_type": "code",
   "execution_count": 37,
   "id": "bb812367-8c9a-40f6-8915-d1d16ae9510c",
   "metadata": {},
   "outputs": [
    {
     "data": {
      "text/plain": [
       "(2861, 2)"
      ]
     },
     "execution_count": 37,
     "metadata": {},
     "output_type": "execute_result"
    }
   ],
   "source": [
    "df.shape"
   ]
  },
  {
   "cell_type": "code",
   "execution_count": 55,
   "id": "170d751f-698e-448b-b955-dd45131f0336",
   "metadata": {},
   "outputs": [
    {
     "data": {
      "text/plain": [
       "0       1971.75\n",
       "1       1960.37\n",
       "2       1970.32\n",
       "3       1958.87\n",
       "6       1953.64\n",
       "         ...   \n",
       "2856    5492.41\n",
       "2857    5449.87\n",
       "2858    5521.74\n",
       "2859    5637.34\n",
       "2860    5829.06\n",
       "Name: price_sell_5g, Length: 2165, dtype: object"
      ]
     },
     "execution_count": 55,
     "metadata": {},
     "output_type": "execute_result"
    }
   ],
   "source": [
    "df1 = df.dropna()\n",
    "df1[\"price_sell_5g\"]"
   ]
  },
  {
   "cell_type": "code",
   "execution_count": 59,
   "id": "9100b363-946d-4627-816c-5604d7f42321",
   "metadata": {},
   "outputs": [],
   "source": [
    "df1.to_excel(\"Парсинг_НБТ_5г_золото_цены_продажи_без_пуст_знач.xlsx\", index=False)"
   ]
  },
  {
   "cell_type": "markdown",
   "id": "9be03648-9f65-45bd-a34f-7bb7ab1a5694",
   "metadata": {},
   "source": [
    "# Парсинг остальных данных (13.04.2025 - 08.05.2025)"
   ]
  },
  {
   "cell_type": "code",
   "execution_count": 4,
   "id": "d539c17a-56b4-4ec6-bada-28173a7fe3c8",
   "metadata": {},
   "outputs": [
    {
     "name": "stdout",
     "output_type": "stream",
     "text": [
      "📅 Начался парсинг 2025 года...\n"
     ]
    },
    {
     "data": {
      "text/html": [
       "<div>\n",
       "<style scoped>\n",
       "    .dataframe tbody tr th:only-of-type {\n",
       "        vertical-align: middle;\n",
       "    }\n",
       "\n",
       "    .dataframe tbody tr th {\n",
       "        vertical-align: top;\n",
       "    }\n",
       "\n",
       "    .dataframe thead th {\n",
       "        text-align: right;\n",
       "    }\n",
       "</style>\n",
       "<table border=\"1\" class=\"dataframe\">\n",
       "  <thead>\n",
       "    <tr style=\"text-align: right;\">\n",
       "      <th></th>\n",
       "      <th>date</th>\n",
       "      <th>price_sell_5g</th>\n",
       "    </tr>\n",
       "  </thead>\n",
       "  <tbody>\n",
       "    <tr>\n",
       "      <th>0</th>\n",
       "      <td>13.04.2025</td>\n",
       "      <td>5829.06</td>\n",
       "    </tr>\n",
       "    <tr>\n",
       "      <th>1</th>\n",
       "      <td>14.04.2025</td>\n",
       "      <td>5829.06</td>\n",
       "    </tr>\n",
       "    <tr>\n",
       "      <th>2</th>\n",
       "      <td>15.04.2025</td>\n",
       "      <td>5836.56</td>\n",
       "    </tr>\n",
       "    <tr>\n",
       "      <th>3</th>\n",
       "      <td>16.04.2025</td>\n",
       "      <td>5842.28</td>\n",
       "    </tr>\n",
       "    <tr>\n",
       "      <th>4</th>\n",
       "      <td>17.04.2025</td>\n",
       "      <td>5969.17</td>\n",
       "    </tr>\n",
       "    <tr>\n",
       "      <th>5</th>\n",
       "      <td>18.04.2025</td>\n",
       "      <td>5979.95</td>\n",
       "    </tr>\n",
       "    <tr>\n",
       "      <th>6</th>\n",
       "      <td>19.04.2025</td>\n",
       "      <td>5924.52</td>\n",
       "    </tr>\n",
       "    <tr>\n",
       "      <th>7</th>\n",
       "      <td>20.04.2025</td>\n",
       "      <td>5924.52</td>\n",
       "    </tr>\n",
       "    <tr>\n",
       "      <th>8</th>\n",
       "      <td>21.04.2025</td>\n",
       "      <td>5924.52</td>\n",
       "    </tr>\n",
       "    <tr>\n",
       "      <th>9</th>\n",
       "      <td>22.04.2025</td>\n",
       "      <td>5909.41</td>\n",
       "    </tr>\n",
       "    <tr>\n",
       "      <th>10</th>\n",
       "      <td>23.04.2025</td>\n",
       "      <td>6118.53</td>\n",
       "    </tr>\n",
       "    <tr>\n",
       "      <th>11</th>\n",
       "      <td>24.04.2025</td>\n",
       "      <td>5899.10</td>\n",
       "    </tr>\n",
       "    <tr>\n",
       "      <th>12</th>\n",
       "      <td>25.04.2025</td>\n",
       "      <td>5895.50</td>\n",
       "    </tr>\n",
       "    <tr>\n",
       "      <th>13</th>\n",
       "      <td>26.04.2025</td>\n",
       "      <td>5829.72</td>\n",
       "    </tr>\n",
       "    <tr>\n",
       "      <th>14</th>\n",
       "      <td>27.04.2025</td>\n",
       "      <td>5829.72</td>\n",
       "    </tr>\n",
       "    <tr>\n",
       "      <th>15</th>\n",
       "      <td>28.04.2025</td>\n",
       "      <td>5829.72</td>\n",
       "    </tr>\n",
       "    <tr>\n",
       "      <th>16</th>\n",
       "      <td>29.04.2025</td>\n",
       "      <td>5784.94</td>\n",
       "    </tr>\n",
       "    <tr>\n",
       "      <th>17</th>\n",
       "      <td>30.04.2025</td>\n",
       "      <td>5838.04</td>\n",
       "    </tr>\n",
       "    <tr>\n",
       "      <th>18</th>\n",
       "      <td>01.05.2025</td>\n",
       "      <td>5769.17</td>\n",
       "    </tr>\n",
       "    <tr>\n",
       "      <th>19</th>\n",
       "      <td>02.05.2025</td>\n",
       "      <td>5611.47</td>\n",
       "    </tr>\n",
       "    <tr>\n",
       "      <th>20</th>\n",
       "      <td>03.05.2025</td>\n",
       "      <td>5646.20</td>\n",
       "    </tr>\n",
       "    <tr>\n",
       "      <th>21</th>\n",
       "      <td>04.05.2025</td>\n",
       "      <td>5646.20</td>\n",
       "    </tr>\n",
       "    <tr>\n",
       "      <th>22</th>\n",
       "      <td>05.05.2025</td>\n",
       "      <td>5646.20</td>\n",
       "    </tr>\n",
       "    <tr>\n",
       "      <th>23</th>\n",
       "      <td>06.05.2025</td>\n",
       "      <td>5659.66</td>\n",
       "    </tr>\n",
       "    <tr>\n",
       "      <th>24</th>\n",
       "      <td>07.05.2025</td>\n",
       "      <td>5857.24</td>\n",
       "    </tr>\n",
       "    <tr>\n",
       "      <th>25</th>\n",
       "      <td>08.05.2025</td>\n",
       "      <td>5846.26</td>\n",
       "    </tr>\n",
       "    <tr>\n",
       "      <th>26</th>\n",
       "      <td>09.05.2025</td>\n",
       "      <td>5791.84</td>\n",
       "    </tr>\n",
       "  </tbody>\n",
       "</table>\n",
       "</div>"
      ],
      "text/plain": [
       "          date price_sell_5g\n",
       "0   13.04.2025       5829.06\n",
       "1   14.04.2025       5829.06\n",
       "2   15.04.2025       5836.56\n",
       "3   16.04.2025       5842.28\n",
       "4   17.04.2025       5969.17\n",
       "5   18.04.2025       5979.95\n",
       "6   19.04.2025       5924.52\n",
       "7   20.04.2025       5924.52\n",
       "8   21.04.2025       5924.52\n",
       "9   22.04.2025       5909.41\n",
       "10  23.04.2025       6118.53\n",
       "11  24.04.2025       5899.10\n",
       "12  25.04.2025       5895.50\n",
       "13  26.04.2025       5829.72\n",
       "14  27.04.2025       5829.72\n",
       "15  28.04.2025       5829.72\n",
       "16  29.04.2025       5784.94\n",
       "17  30.04.2025       5838.04\n",
       "18  01.05.2025       5769.17\n",
       "19  02.05.2025       5611.47\n",
       "20  03.05.2025       5646.20\n",
       "21  04.05.2025       5646.20\n",
       "22  05.05.2025       5646.20\n",
       "23  06.05.2025       5659.66\n",
       "24  07.05.2025       5857.24\n",
       "25  08.05.2025       5846.26\n",
       "26  09.05.2025       5791.84"
      ]
     },
     "execution_count": 4,
     "metadata": {},
     "output_type": "execute_result"
    }
   ],
   "source": [
    "import requests\n",
    "from bs4 import BeautifulSoup\n",
    "import pandas as pd\n",
    "from datetime import datetime, timedelta\n",
    "\n",
    "start_date = datetime(2025, 4, 13)\n",
    "end_date = datetime.now()\n",
    "data = []\n",
    "headers = {\"User-Agent\": \"Mozilla/5.0 (Windows NT 10.0; Win64; x64) Chrome/91.0.4472.124\"}\n",
    "\n",
    "current_date = start_date\n",
    "last_year = None\n",
    "\n",
    "while current_date <= end_date:\n",
    "    date_str = current_date.strftime(\"%d.%m.%Y\")\n",
    "    year_now = current_date.year\n",
    "    if year_now != last_year:\n",
    "        print(f\"📅 Начался парсинг {year_now} года...\")\n",
    "        last_year = year_now\n",
    "\n",
    "    url = f\"https://nbt.tj/tj/kurs/gold.php?date={date_str}\"\n",
    "    price = None\n",
    "\n",
    "    try:\n",
    "        response = requests.get(url, headers=headers, timeout=10)\n",
    "        if response.status_code == 200:\n",
    "            soup = BeautifulSoup(response.content, \"html.parser\")\n",
    "            tables = soup.find_all(\"table\")\n",
    "\n",
    "            # Поиск таблицы, содержащей \"грамм\" и \"цена\"\n",
    "            for table in tables:\n",
    "                rows = table.find_all(\"tr\")\n",
    "                for row in rows:\n",
    "                    cols = row.find_all(\"td\")\n",
    "                    if len(cols) >= 3:\n",
    "                        weight = cols[0].text.strip().lower().replace(\" \", \"\")\n",
    "                        if weight.startswith(\"5\"):\n",
    "                            price = cols[2].text.strip() \n",
    "                            break\n",
    "                if price:\n",
    "                    break\n",
    "    except Exception as e:\n",
    "        pass  \n",
    "\n",
    "    data.append({\n",
    "        \"date\": date_str,\n",
    "        \"price_sell_5g\": price\n",
    "    })\n",
    "    current_date += timedelta(days=1)\n",
    "\n",
    "df = pd.DataFrame(data)\n",
    "df"
   ]
  },
  {
   "cell_type": "code",
   "execution_count": null,
   "id": "b6114e84-3150-4abb-aa90-398bc4746064",
   "metadata": {},
   "outputs": [],
   "source": [
    "df.to_excel(\"Парсинг_остальных_данных.xlsx\", index=False)\n",
    "print(\"✅ Данные сохранены в Парсинг_остальных_данных.xlsx\")"
   ]
  },
  {
   "cell_type": "code",
   "execution_count": 6,
   "id": "7f562c47-6e66-4569-bc68-40a8196796b3",
   "metadata": {},
   "outputs": [
    {
     "name": "stdout",
     "output_type": "stream",
     "text": [
      "<class 'pandas.core.frame.DataFrame'>\n",
      "RangeIndex: 27 entries, 0 to 26\n",
      "Data columns (total 2 columns):\n",
      " #   Column         Non-Null Count  Dtype \n",
      "---  ------         --------------  ----- \n",
      " 0   date           27 non-null     object\n",
      " 1   price_sell_5g  27 non-null     object\n",
      "dtypes: object(2)\n",
      "memory usage: 564.0+ bytes\n"
     ]
    }
   ],
   "source": [
    "df.info()"
   ]
  },
  {
   "cell_type": "code",
   "execution_count": 8,
   "id": "77ba1895-ada2-439e-be64-3f632e10743c",
   "metadata": {},
   "outputs": [
    {
     "data": {
      "text/plain": [
       "date             0\n",
       "price_sell_5g    0\n",
       "dtype: int64"
      ]
     },
     "execution_count": 8,
     "metadata": {},
     "output_type": "execute_result"
    }
   ],
   "source": [
    "df.isna().sum()"
   ]
  },
  {
   "cell_type": "code",
   "execution_count": 10,
   "id": "1b0fb303-f5ce-47ba-acd4-6ec25ed8c9b7",
   "metadata": {},
   "outputs": [
    {
     "data": {
      "text/plain": [
       "(27, 2)"
      ]
     },
     "execution_count": 10,
     "metadata": {},
     "output_type": "execute_result"
    }
   ],
   "source": [
    "df.shape"
   ]
  },
  {
   "cell_type": "code",
   "execution_count": null,
   "id": "35a54da8-36fa-4928-bd3f-adbc77294e4c",
   "metadata": {},
   "outputs": [],
   "source": []
  }
 ],
 "metadata": {
  "kernelspec": {
   "display_name": "Python [conda env:base] *",
   "language": "python",
   "name": "conda-base-py"
  },
  "language_info": {
   "codemirror_mode": {
    "name": "ipython",
    "version": 3
   },
   "file_extension": ".py",
   "mimetype": "text/x-python",
   "name": "python",
   "nbconvert_exporter": "python",
   "pygments_lexer": "ipython3",
   "version": "3.12.3"
  }
 },
 "nbformat": 4,
 "nbformat_minor": 5
}
